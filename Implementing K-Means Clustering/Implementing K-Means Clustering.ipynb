{
  "nbformat": 4,
  "nbformat_minor": 0,
  "metadata": {
    "colab": {
      "name": "160204099_B2_05.ipynb",
      "provenance": [],
      "collapsed_sections": []
    },
    "kernelspec": {
      "name": "python3",
      "display_name": "Python 3"
    }
  },
  "cells": [
    {
      "cell_type": "code",
      "metadata": {
        "id": "xu9Ig_KcN3Xi"
      },
      "source": [
        "import io\n",
        "import pandas as pd\n",
        "\n",
        "\n",
        "data = pd.read_csv('/content/data_k_mean.txt', sep = ' ', header = None)\n",
        "data.head()\n",
        "data_np = data.to_numpy()"
      ],
      "execution_count": null,
      "outputs": []
    },
    {
      "cell_type": "code",
      "metadata": {
        "id": "Xe7iYS2JOH9o",
        "colab": {
          "base_uri": "https://localhost:8080/",
          "height": 265
        },
        "outputId": "d11107ac-2809-4b08-84aa-133dd1d8eec3"
      },
      "source": [
        "import matplotlib.pyplot as plt\n",
        "plt.scatter(data[0], data[1], c = 'r', marker = 'o')\n",
        "plt.show()"
      ],
      "execution_count": null,
      "outputs": [
        {
          "output_type": "display_data",
          "data": {
            "image/png": "[encoded data removed]",
            "text/plain": [
              "<Figure size 432x288 with 1 Axes>"
            ]
          },
          "metadata": {
            "tags": [],
            "needs_background": "light"
          }
        }
      ]
    },
    {
      "cell_type": "code",
      "metadata": {
        "id": "zsTiPeMSO16a",
        "colab": {
          "base_uri": "https://localhost:8080/"
        },
        "outputId": "5d7bd51e-1b40-4b8d-9ad5-878946f9ad71"
      },
      "source": [
        "\n",
        "k = int(input(\"Enter the value of k : \"))"
      ],
      "execution_count": null,
      "outputs": [
        {
          "output_type": "stream",
          "text": [
            "Enter the value of k : 2\n"
          ],
          "name": "stdout"
        }
      ]
    },
    {
      "cell_type": "code",
      "metadata": {
        "id": "A26c9QwjQppU"
      },
      "source": [
        "import numpy as np\n",
        "np.random.seed(seed=4)\n",
        "random_numbers = np.random.randint(low=0, high=len(data_np), size=(k,))\n",
        "centroids = [data_np[random_numbers[i]] for i in range(k)]\n"
      ],
      "execution_count": null,
      "outputs": []
    },
    {
      "cell_type": "code",
      "metadata": {
        "id": "09wuI38ATQuU"
      },
      "source": [
        "distance = [] \n",
        "index_clusters = [-1 for i in range(len(data_np))] \n",
        "count = 0 \n",
        "clusters = {} \n",
        "flag=1\n",
        "for x in range(200):\n",
        "  count = x\n",
        "  flag = 0 \n",
        "  for y in range(k):\n",
        "    clusters[y] = []\n",
        "  for i in range(len(data_np)):\n",
        "    distance = []\n",
        "    for j in range(k):\n",
        "      dist = np.sqrt(pow((data_np[i][0] - centroids[j][0]), 2) + pow((data_np[i][1] - centroids[j][1]), 2))\n",
        "      distance.append(dist)\n",
        "    ind = distance.index(min(distance))\n",
        "    if index_clusters[i] != ind:\n",
        "      flag = 1\n",
        "      index_clusters[i] = ind\n",
        "    clusters[ind].append(data_np[i])\n",
        "  if flag == 0:\n",
        "    break\n",
        "  \n",
        "  centroids = [np.mean(np.asarray(clusters[z]), axis=0) for z in range(k)]"
      ],
      "execution_count": null,
      "outputs": []
    },
    {
      "cell_type": "code",
      "metadata": {
        "id": "RLUriNvs9JNY"
      },
      "source": [
        "\n",
        "x1 = np.asarray(clusters[0])[:, 0]\n",
        "y1 = np.asarray(clusters[0])[:, 1]\n",
        "x2 = np.asarray(clusters[1])[:, 0]\n",
        "y2 = np.asarray(clusters[1])[:, 1]"
      ],
      "execution_count": null,
      "outputs": []
    },
    {
      "cell_type": "code",
      "metadata": {
        "id": "V6IeJbeETXgz",
        "colab": {
          "base_uri": "https://localhost:8080/",
          "height": 265
        },
        "outputId": "5155adc1-32d1-4791-cd57-70131c3bac2d"
      },
      "source": [
        "\n",
        "plt.scatter(x1, y1, c = 'r', marker = '+', label = 'Class 1')\n",
        "plt.scatter(x2, y2, c = 'g', marker = 'o', label = 'Class 2')\n",
        "plt.legend(loc = 'best')\n",
        "plt.show()"
      ],
      "execution_count": null,
      "outputs": [
        {
          "output_type": "display_data",
          "data": {
            "image/png": "[encoded data removed]",
            "text/plain": [
              "<Figure size 432x288 with 1 Axes>"
            ]
          },
          "metadata": {
            "tags": [],
            "needs_background": "light"
          }
        }
      ]
    },
    {
      "cell_type": "code",
      "metadata": {
        "id": "hhFcxfjQB9-E"
      },
      "source": [
        ""
      ],
      "execution_count": null,
      "outputs": []
    }
  ]
}