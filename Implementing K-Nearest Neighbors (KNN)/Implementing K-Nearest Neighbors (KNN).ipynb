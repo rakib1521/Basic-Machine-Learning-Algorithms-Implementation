{
  "nbformat": 4,
  "nbformat_minor": 0,
  "metadata": {
    "colab": {
      "name": "160204099_B2_04.ipynb",
      "provenance": [],
      "collapsed_sections": []
    },
    "kernelspec": {
      "name": "python3",
      "display_name": "Python 3"
    }
  },
  "cells": [
    {
      "cell_type": "markdown",
      "metadata": {
        "id": "mmTehvJCZWDk"
      },
      "source": [
        "**importing libraries**"
      ]
    },
    {
      "cell_type": "code",
      "metadata": {
        "id": "so57nFlmcxYV",
        "cellView": "code"
      },
      "source": [
        "\n",
        "import pandas as pd\n",
        "import matplotlib.pyplot as plt\n",
        "import numpy as np\n",
        "import random\n",
        "import math\n"
      ],
      "execution_count": 1,
      "outputs": []
    },
    {
      "cell_type": "markdown",
      "metadata": {
        "id": "C79UcrXcr6JO"
      },
      "source": [
        "Variables"
      ]
    },
    {
      "cell_type": "code",
      "metadata": {
        "id": "iuXfhLxnpJJQ"
      },
      "source": [
        "omega_one=[]\n",
        "omega_two=[]\n",
        "Test_omega_one=[]\n",
        "Test_omega_two=[]\n",
        "pre_class=[]\n",
        "\n"
      ],
      "execution_count": 2,
      "outputs": []
    },
    {
      "cell_type": "code",
      "metadata": {
        "id": "Y3s88tlFi9Sq"
      },
      "source": [
        "def takefirst(elem):\n",
        "    return elem[0]"
      ],
      "execution_count": 3,
      "outputs": []
    },
    {
      "cell_type": "code",
      "metadata": {
        "id": "93pMiXyiiL4x"
      },
      "source": [
        "def class_predicition_KNN(x,y,i):\n",
        "  temp_dict={}\n",
        "  c1=0\n",
        "  c2=0\n",
        "  f.write(\"Test {} \\n\".format(i))\n",
        "  f.write(\"test point {} {} \\n\".format(x,y))\n",
        "  for i in range(0,len(train_df)):\n",
        "\n",
        "    temp_one=train_df['x1'][i]-x\n",
        "    temp_two=train_df['x2'][i]-y\n",
        "    temp_dist=math.pow(temp_one,2)+math.pow(temp_two,2)\n",
        "\n",
        "    temp_dict[\"distance {}\".format(i)]=[temp_dist,train_df[\"Y\"][i]]\n",
        "\n",
        "  return temp_dict\n"
      ],
      "execution_count": 4,
      "outputs": []
    },
    {
      "cell_type": "markdown",
      "metadata": {
        "id": "keiITI8HZfxE"
      },
      "source": [
        "**Taking input from user**"
      ]
    },
    {
      "cell_type": "code",
      "metadata": {
        "colab": {
          "base_uri": "https://localhost:8080/"
        },
        "id": "Rt6k0e-r0ROG",
        "outputId": "900695d4-0d67-40e6-8105-7cfda6fc4357"
      },
      "source": [
        "print('Enter Value of K:')\n",
        "K = int(input())"
      ],
      "execution_count": 5,
      "outputs": [
        {
          "output_type": "stream",
          "text": [
            "Enter Value of K:\n",
            "3\n"
          ],
          "name": "stdout"
        }
      ]
    },
    {
      "cell_type": "markdown",
      "metadata": {
        "id": "TKFX4La8r98U"
      },
      "source": [
        "**Upload And path setup**"
      ]
    },
    {
      "cell_type": "code",
      "metadata": {
        "id": "bvJkvDlKdC7c"
      },
      "source": [
        "train_df=pd.read_csv(\"/content/train_knn.txt\",sep=\",\" ,names=[\"x1\",\"x2\",\"Y\"])\n",
        "test_df=pd.read_csv(\"/content/test_knn.txt\",sep=\",\" ,names=[\"x1\",\"x2\"])\n",
        "f = open(\"/content/prediction.txt\", \"a\")\n",
        "\n"
      ],
      "execution_count": 6,
      "outputs": []
    },
    {
      "cell_type": "markdown",
      "metadata": {
        "id": "yG7pR_rwsDQY"
      },
      "source": [
        "**Traning Data Separation**"
      ]
    },
    {
      "cell_type": "code",
      "metadata": {
        "id": "Zav-z0ZKAmI1"
      },
      "source": [
        "def class_separation(df):\n",
        "  for i in range(0,len(df)):\n",
        "    li=[]\n",
        "    if df['Y'][i]==1:\n",
        "      li=df['x1'][i],df['x2'][i]\n",
        "      omega_one.append(li)\n",
        "    elif df['Y'][i]==2: \n",
        "      li=df['x1'][i],df['x2'][i] \n",
        "      omega_two.append(li) "
      ],
      "execution_count": 7,
      "outputs": []
    },
    {
      "cell_type": "code",
      "metadata": {
        "id": "ngz_NuyHBmkh"
      },
      "source": [
        "class_separation(train_df)\n",
        "\n"
      ],
      "execution_count": 8,
      "outputs": []
    },
    {
      "cell_type": "markdown",
      "metadata": {
        "id": "kgV5boHLqtkK"
      },
      "source": [
        "**Plotting Traning Classes**"
      ]
    },
    {
      "cell_type": "code",
      "metadata": {
        "colab": {
          "base_uri": "https://localhost:8080/",
          "height": 265
        },
        "id": "Hkxf-7vKht7e",
        "outputId": "f54e1515-0cb1-44b1-d7b3-5563e0e1ddbb"
      },
      "source": [
        "plt.plot(*zip(*omega_one),'ro',label=\"Train Class 1\")\n",
        "plt.plot(*zip(*omega_two),\"bv\",label=\"Train Class 2\")\n",
        "plt.legend(loc=\"upper center\",bbox_to_anchor=(1.25, 1))\n",
        "plt.show()"
      ],
      "execution_count": 9,
      "outputs": [
        {
          "output_type": "display_data",
          "data": {
            "image/png": "[encoded data removed]",
            "text/plain": [
              "<Figure size 432x288 with 1 Axes>"
            ]
          },
          "metadata": {
            "tags": [],
            "needs_background": "light"
          }
        }
      ]
    },
    {
      "cell_type": "code",
      "metadata": {
        "id": "nwwxUNVplcKC"
      },
      "source": [
        "for i in range(0,len(test_df)):\n",
        "  \n",
        "  c1=0\n",
        "  c2=0\n",
        "  temp_dict={}\n",
        "  li=[]\n",
        "  temp_dict=class_predicition_KNN(test_df[\"x1\"][i],test_df[\"x2\"][i],i)\n",
        "  li=test_df[\"x1\"][i],test_df[\"x2\"][i]\n",
        "  a=list(temp_dict.values())\n",
        "  a.sort(key=takefirst)\n",
        "  for i in range(0,K):\n",
        "    \n",
        "  \n",
        "    f.write(\"Distance {} class {} \\n\".format(a[i][0],a[i][1]))\n",
        "    if a[i][1]==1:\n",
        "      c1=c1+1\n",
        "    else:\n",
        "      c2=c2+1\n",
        "  if c1>c2:\n",
        "      \n",
        "      f.write(\"Predicted Class: {} \\n\".format(1))\n",
        "      \n",
        "      Test_omega_one.append(li)\n",
        "  else:      \n",
        "      \n",
        "      f.write(\"Predicted Class: {} \\n\".format(2))\n",
        "      Test_omega_two.append(li)\n"
      ],
      "execution_count": 10,
      "outputs": []
    },
    {
      "cell_type": "markdown",
      "metadata": {
        "id": "Iw4RymD2Zry6"
      },
      "source": [
        "**Plotting Traning and test Classes**"
      ]
    },
    {
      "cell_type": "code",
      "metadata": {
        "colab": {
          "base_uri": "https://localhost:8080/",
          "height": 265
        },
        "id": "NsdHwqxkxT_5",
        "outputId": "9fb68c72-c776-47fa-fdc5-17786145dc86"
      },
      "source": [
        "f.close()\n",
        "plt.plot(*zip(*omega_one),'ro',label=\"Train Class 1\")\n",
        "plt.plot(*zip(*omega_two),\"bv\",label=\"Train Class 2\")\n",
        "plt.plot(*zip(*Test_omega_one),\"*\",label=\"Test Class 1\")\n",
        "plt.plot(*zip(*Test_omega_two),\"h\",label=\"Test Class 2\")\n",
        "plt.legend(loc=\"upper center\",bbox_to_anchor=(1.25, 1))\n",
        "plt.show()"
      ],
      "execution_count": 11,
      "outputs": [
        {
          "output_type": "display_data",
          "data": {
            "image/png": "[encoded data removed]",
            "text/plain": [
              "<Figure size 432x288 with 1 Axes>"
            ]
          },
          "metadata": {
            "tags": [],
            "needs_background": "light"
          }
        }
      ]
    },
    {
      "cell_type": "code",
      "metadata": {
        "id": "CNVvJpLR8vuF"
      },
      "source": [
        ""
      ],
      "execution_count": null,
      "outputs": []
    }
  ]
}