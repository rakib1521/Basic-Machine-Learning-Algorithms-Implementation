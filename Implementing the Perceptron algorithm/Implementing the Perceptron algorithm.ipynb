{
  "nbformat": 4,
  "nbformat_minor": 0,
  "metadata": {
    "colab": {
      "name": "160204099_B2_02.ipynb",
      "provenance": [],
      "collapsed_sections": []
    },
    "kernelspec": {
      "name": "python3",
      "display_name": "Python 3"
    }
  },
  "cells": [
    {
      "cell_type": "code",
      "metadata": {
        "id": "so57nFlmcxYV",
        "cellView": "code"
      },
      "source": [
        "\n",
        "import pandas as pd\n",
        "import matplotlib.pyplot as plt\n",
        "import numpy as np\n",
        "import random\n"
      ],
      "execution_count": null,
      "outputs": []
    },
    {
      "cell_type": "markdown",
      "metadata": {
        "id": "C79UcrXcr6JO"
      },
      "source": [
        "Variables"
      ]
    },
    {
      "cell_type": "code",
      "metadata": {
        "id": "iuXfhLxnpJJQ"
      },
      "source": [
        "omega_one=[]\r\n",
        "omega_two=[]\r\n",
        "omega_one_phi=[]\r\n",
        "omega_two_phi=[]\r\n",
        "lr = np.arange(0.1,1.1,0.1)\r\n",
        "\r\n"
      ],
      "execution_count": null,
      "outputs": []
    },
    {
      "cell_type": "markdown",
      "metadata": {
        "id": "TKFX4La8r98U"
      },
      "source": [
        "**Upload And path setup**"
      ]
    },
    {
      "cell_type": "code",
      "metadata": {
        "id": "bvJkvDlKdC7c"
      },
      "source": [
        "train_df=pd.read_csv(\"/content/train-perceptron.txt\",sep=\" \" ,names=[\"x1\",\"x2\",\"Y\"])\r\n",
        "\r\n",
        "\r\n",
        "\r\n"
      ],
      "execution_count": null,
      "outputs": []
    },
    {
      "cell_type": "markdown",
      "metadata": {
        "id": "yG7pR_rwsDQY"
      },
      "source": [
        "**Traning Data Separation**"
      ]
    },
    {
      "cell_type": "code",
      "metadata": {
        "id": "Zav-z0ZKAmI1"
      },
      "source": [
        "def class_separation(df):\r\n",
        "  for i in range(0,len(df)):\r\n",
        "    li=[]\r\n",
        "    if df['Y'][i]==1:\r\n",
        "      li=df['x1'][i],df['x2'][i]\r\n",
        "      omega_one.append(li)\r\n",
        "    elif df['Y'][i]==2: \r\n",
        "      li=df['x1'][i],df['x2'][i] \r\n",
        "      omega_two.append(li) "
      ],
      "execution_count": null,
      "outputs": []
    },
    {
      "cell_type": "markdown",
      "metadata": {
        "id": "QCMHCmASf6ph"
      },
      "source": [
        "**Many at a Time**"
      ]
    },
    {
      "cell_type": "code",
      "metadata": {
        "id": "IMWuZIqyx-u9"
      },
      "source": [
        "def batch_update(learning_rate,weights):\r\n",
        "    correctly_classified=False\r\n",
        "    miss_classified=0\r\n",
        "    iteration=0\r\n",
        "    while correctly_classified==False and iteration<=200:\r\n",
        "      miss_classified = 0\r\n",
        "      sum_weights=np.zeros(6)\r\n",
        "      for i in range(len(phi)):\r\n",
        "        if (np.dot(weights,phi[i])) <= 0:\r\n",
        "              sum_weights = np.add(sum_weights , phi[i])\r\n",
        "              miss_classified +=1\r\n",
        "      if miss_classified == 0:\r\n",
        "        correctly_classified = True\r\n",
        "      else:\r\n",
        "        correctly_classified=False\r\n",
        "        weights = weights + np.dot(learning_rate , sum_weights)  \r\n",
        "      iteration += 1\r\n",
        "\r\n",
        "    return iteration     \r\n",
        "\r\n",
        "      \r\n",
        "\r\n",
        "  "
      ],
      "execution_count": null,
      "outputs": []
    },
    {
      "cell_type": "markdown",
      "metadata": {
        "id": "IyqaGWfX5nBT"
      },
      "source": [
        "**One at a Time**"
      ]
    },
    {
      "cell_type": "code",
      "metadata": {
        "id": "A6ozmVryfBIN"
      },
      "source": [
        "def single_update(learning_rate,weights):\r\n",
        "    correctly_classified=False\r\n",
        "    iteration=0\r\n",
        "    while correctly_classified==False and iteration<=200:\r\n",
        "      miss_classified=0\r\n",
        "      for i in range(len(phi)):\r\n",
        "        if (np.dot(weights,phi[i])) <= 0:\r\n",
        "              weights = weights + np.dot(learning_rate,phi[i])\r\n",
        "              miss_classified +=1\r\n",
        "      if miss_classified == 0:\r\n",
        "        correctly_classified = True\r\n",
        "      iteration += 1\r\n",
        "\r\n",
        "    return iteration     \r\n",
        "\r\n",
        "      \r\n",
        "\r\n",
        "  "
      ],
      "execution_count": null,
      "outputs": []
    },
    {
      "cell_type": "markdown",
      "metadata": {
        "id": "Q7Y6iN8l6ITU"
      },
      "source": [
        "**Phi Function Claculation**"
      ]
    },
    {
      "cell_type": "code",
      "metadata": {
        "id": "KltM7DbNtRUW"
      },
      "source": [
        "def phi(omega_value):\r\n",
        "  return [pow(omega_value[0],2),pow(omega_value[1],2),omega_value[0]*omega_value[1],omega_value[0],omega_value[1],1]\r\n",
        "\r\n"
      ],
      "execution_count": null,
      "outputs": []
    },
    {
      "cell_type": "markdown",
      "metadata": {
        "id": "oIV5PcIh6yY0"
      },
      "source": [
        "**Table Show**"
      ]
    },
    {
      "cell_type": "code",
      "metadata": {
        "id": "v93W3K0S3hqv"
      },
      "source": [
        "def table_show(learning_rate,many_at_a_time,one_at_a_time):\r\n",
        "\r\n",
        "  dict = {'Learning rate': learning_rate, 'Many at a time': many_at_a_time, 'One at a time': one_at_a_time}\r\n",
        "  dataframe = pd.DataFrame(dict)\r\n",
        "\r\n",
        "  print(dataframe.to_string(index=False))\r\n"
      ],
      "execution_count": null,
      "outputs": []
    },
    {
      "cell_type": "markdown",
      "metadata": {
        "id": "yw8FFIRA7a7q"
      },
      "source": [
        "**Perception comparison**"
      ]
    },
    {
      "cell_type": "code",
      "metadata": {
        "id": "vBd4XXAJhOlb"
      },
      "source": [
        "def perception_comparison(learning_rate,many_at_a_time,one_at_a_time):\r\n",
        "  labels=[]\r\n",
        "  for i in learning_rate:\r\n",
        "    labels.append(str(round(i,2)))\r\n",
        "  x = np.arange(len(lr))  \r\n",
        "  width = 0.35\r\n",
        "  fig, ax = plt.subplots()\r\n",
        "\r\n",
        "  fig.set_size_inches(8,6)\r\n",
        "  ax.bar(x - width/2, one_at_a_time, width, label='One at a time')\r\n",
        "  ax.bar(x + width/2, many_at_a_time, width, label='Many at a time')\r\n",
        "\r\n",
        "  ax.set_xlabel('Learning rate')\r\n",
        "  ax.set_ylabel('No of iterations')\r\n",
        "  ax.set_title('Perception comparison')\r\n",
        "  ax.set_xticks(x)\r\n",
        "  ax.set_xticklabels(labels)\r\n",
        "  ax.legend()\r\n",
        "\r\n",
        "  plt.show()"
      ],
      "execution_count": null,
      "outputs": []
    },
    {
      "cell_type": "markdown",
      "metadata": {
        "id": "yZiYXSpBqity"
      },
      "source": [
        "**Separating Class**"
      ]
    },
    {
      "cell_type": "code",
      "metadata": {
        "id": "ngz_NuyHBmkh"
      },
      "source": [
        "class_separation(train_df)\r\n",
        "\r\n"
      ],
      "execution_count": null,
      "outputs": []
    },
    {
      "cell_type": "markdown",
      "metadata": {
        "id": "kgV5boHLqtkK"
      },
      "source": [
        "**Plotting Classes without Decision Boundary**"
      ]
    },
    {
      "cell_type": "code",
      "metadata": {
        "colab": {
          "base_uri": "https://localhost:8080/",
          "height": 265
        },
        "id": "Hkxf-7vKht7e",
        "outputId": "072f0ec3-5b30-417a-dbd6-3b0c9cbfc63e"
      },
      "source": [
        "plt.plot(*zip(*omega_one),'ro',label=\"Train Class 1\")\r\n",
        "plt.plot(*zip(*omega_two),\"bv\",label=\"Train Class 2\")\r\n",
        "plt.legend(loc=\"upper center\",bbox_to_anchor=(1.25, 1))\r\n",
        "plt.show()"
      ],
      "execution_count": null,
      "outputs": [
        {
          "output_type": "display_data",
          "data": {
            "image/png": "[encoded data removed]",
            "text/plain": [
              "<Figure size 432x288 with 1 Axes>"
            ]
          },
          "metadata": {
            "tags": [],
            "needs_background": "light"
          }
        }
      ]
    },
    {
      "cell_type": "markdown",
      "metadata": {
        "id": "cd1JI-wmq-Zq"
      },
      "source": [
        "**Plotting Classes with Decision Boundary**"
      ]
    },
    {
      "cell_type": "code",
      "metadata": {
        "id": "3EBqQYpaqTLM"
      },
      "source": [
        "minimum=min(min(train_df[\"x1\"]),min(train_df[\"x2\"]))\r\n",
        "maximum=max(max(train_df[\"x1\"]),max(train_df[\"x2\"]))\r\n",
        "x=[]\r\n",
        "y=[]\r\n",
        "m=0.5\r\n",
        "c=2\r\n",
        "for i in range(int(minimum),int(maximum+1)):\r\n",
        "  x.append(i)\r\n",
        "  y.append(m*i+c)\r\n",
        "\r\n"
      ],
      "execution_count": null,
      "outputs": []
    },
    {
      "cell_type": "code",
      "metadata": {
        "colab": {
          "base_uri": "https://localhost:8080/",
          "height": 265
        },
        "id": "JkyvcUK3ACDB",
        "outputId": "5c065348-26a0-447a-93b6-cb78f858a78b"
      },
      "source": [
        "plt.plot(*zip(*omega_one),'ro',label=\"Train Class 1\")\r\n",
        "plt.plot(*zip(*omega_two),\"bv\",label=\"Train Class 2\")\r\n",
        "plt.plot(x,y,\"--\",label=\"Decision Boundary\")\r\n",
        "\r\n",
        "plt.show()"
      ],
      "execution_count": null,
      "outputs": [
        {
          "output_type": "display_data",
          "data": {
            "image/png": "[encoded data removed]",
            "text/plain": [
              "<Figure size 432x288 with 1 Axes>"
            ]
          },
          "metadata": {
            "tags": [],
            "needs_background": "light"
          }
        }
      ]
    },
    {
      "cell_type": "markdown",
      "metadata": {
        "id": "lqassqaWrV-o"
      },
      "source": [
        "**Generate the high dimensional sample points**"
      ]
    },
    {
      "cell_type": "code",
      "metadata": {
        "id": "IWw3t_w9C9aR"
      },
      "source": [
        "for omega in omega_one:\r\n",
        "  omega_one_phi.append(phi(omega))\r\n",
        "for omega in omega_two:\r\n",
        "  omega_two_phi.append(phi(omega))\r\n",
        "normalize_omega_two=np.array(omega_two_phi).dot(-1)\r\n",
        "phi = np.concatenate((np.array(omega_one_phi), normalize_omega_two))\r\n"
      ],
      "execution_count": null,
      "outputs": []
    },
    {
      "cell_type": "markdown",
      "metadata": {
        "id": "Mx69zxUa8-Vi"
      },
      "source": [
        "**All Weights Zero**"
      ]
    },
    {
      "cell_type": "code",
      "metadata": {
        "colab": {
          "base_uri": "https://localhost:8080/"
        },
        "id": "xNq2m_b2geKT",
        "outputId": "3461e945-c857-4bfc-9b58-b1ffbf5360ef"
      },
      "source": [
        "single_iter=[]\r\n",
        "weights=np.zeros(6)\r\n",
        "for i in lr:\r\n",
        "  iter= single_update(i,weights)\r\n",
        "  single_iter.append(iter)\r\n",
        "batch_iter=[]\r\n",
        "for i in lr:\r\n",
        "  iter= batch_update(i,weights)\r\n",
        "  batch_iter.append(iter)\r\n",
        "table_show(lr,batch_iter,single_iter)\r\n"
      ],
      "execution_count": null,
      "outputs": [
        {
          "output_type": "stream",
          "text": [
            " Learning rate  Many at a time  One at a time\n",
            "           0.1             105             94\n",
            "           0.2             105             94\n",
            "           0.3              92             94\n",
            "           0.4             105             94\n",
            "           0.5              92             94\n",
            "           0.6             105             94\n",
            "           0.7             105             94\n",
            "           0.8             105             94\n",
            "           0.9             105             94\n",
            "           1.0              92             94\n"
          ],
          "name": "stdout"
        }
      ]
    },
    {
      "cell_type": "code",
      "metadata": {
        "colab": {
          "base_uri": "https://localhost:8080/",
          "height": 404
        },
        "id": "N-EuPBvDhP-T",
        "outputId": "38db7c88-c60f-444f-fa3e-573aa8354f06"
      },
      "source": [
        "perception_comparison(lr,batch_iter,single_iter)\r\n"
      ],
      "execution_count": null,
      "outputs": [
        {
          "output_type": "display_data",
          "data": {
            "image/png": "[encoded data removed]",
            "text/plain": [
              "<Figure size 576x432 with 1 Axes>"
            ]
          },
          "metadata": {
            "tags": [],
            "needs_background": "light"
          }
        }
      ]
    },
    {
      "cell_type": "markdown",
      "metadata": {
        "id": "Cbzljn9V9Kwv"
      },
      "source": [
        "**All Weights One**"
      ]
    },
    {
      "cell_type": "code",
      "metadata": {
        "colab": {
          "base_uri": "https://localhost:8080/"
        },
        "id": "10imqOo79HU3",
        "outputId": "90515051-2fbf-4162-8eb2-ef41d1433fa7"
      },
      "source": [
        "single_iter=[]\r\n",
        "weights=np.ones(6)\r\n",
        "for i in lr:\r\n",
        "  iter= single_update(i,weights)\r\n",
        "  single_iter.append(iter)\r\n",
        "batch_iter=[]\r\n",
        "for i in lr:\r\n",
        "  iter= batch_update(i,weights)\r\n",
        "  batch_iter.append(iter)\r\n",
        "table_show(lr,batch_iter,single_iter)"
      ],
      "execution_count": null,
      "outputs": [
        {
          "output_type": "stream",
          "text": [
            " Learning rate  Many at a time  One at a time\n",
            "           0.1             102              6\n",
            "           0.2             104             92\n",
            "           0.3              91            104\n",
            "           0.4             116            106\n",
            "           0.5             105             93\n",
            "           0.6             114             93\n",
            "           0.7              91            108\n",
            "           0.8              91            115\n",
            "           0.9             105             94\n",
            "           1.0              93             94\n"
          ],
          "name": "stdout"
        }
      ]
    },
    {
      "cell_type": "code",
      "metadata": {
        "colab": {
          "base_uri": "https://localhost:8080/",
          "height": 404
        },
        "id": "S6W0Nn1o9Y7e",
        "outputId": "5616dc9c-250d-4c3c-80e8-c5a67d9bf5bc"
      },
      "source": [
        "perception_comparison(lr,batch_iter,single_iter)"
      ],
      "execution_count": null,
      "outputs": [
        {
          "output_type": "display_data",
          "data": {
            "image/png": "[encoded data removed]",
            "text/plain": [
              "<Figure size 576x432 with 1 Axes>"
            ]
          },
          "metadata": {
            "tags": [],
            "needs_background": "light"
          }
        }
      ]
    },
    {
      "cell_type": "markdown",
      "metadata": {
        "id": "_QxiG9tT9okN"
      },
      "source": [
        "**Random Weights**"
      ]
    },
    {
      "cell_type": "code",
      "metadata": {
        "colab": {
          "base_uri": "https://localhost:8080/"
        },
        "id": "MYkN-2Zk9ivM",
        "outputId": "de8a926e-9f36-4be4-fe72-716ac6c37077"
      },
      "source": [
        "single_iter=[]\r\n",
        "weights=[]\r\n",
        "np.random.seed(6)\r\n",
        "for i in range(6):\r\n",
        "  weights.append(random.randint(0, 6))\r\n",
        "for i in lr:\r\n",
        "  iter= single_update(i,weights)\r\n",
        "  single_iter.append(iter)\r\n",
        "batch_iter=[]\r\n",
        "for i in lr:\r\n",
        "  iter= batch_update(i,weights)\r\n",
        "  batch_iter.append(iter)\r\n",
        "table_show(lr,batch_iter,single_iter)"
      ],
      "execution_count": null,
      "outputs": [
        {
          "output_type": "stream",
          "text": [
            " Learning rate  Many at a time  One at a time\n",
            "           0.1              36             32\n",
            "           0.2              96             71\n",
            "           0.3             121             16\n",
            "           0.4              91             81\n",
            "           0.5              87             96\n",
            "           0.6              87              6\n",
            "           0.7              85              7\n",
            "           0.8             103             79\n",
            "           0.9               4             98\n",
            "           1.0             121            105\n"
          ],
          "name": "stdout"
        }
      ]
    },
    {
      "cell_type": "code",
      "metadata": {
        "colab": {
          "base_uri": "https://localhost:8080/",
          "height": 404
        },
        "id": "hyjpYIb89nVP",
        "outputId": "4de645ca-c070-4511-e02a-69e59ae9b869"
      },
      "source": [
        "perception_comparison(lr,batch_iter,single_iter)"
      ],
      "execution_count": null,
      "outputs": [
        {
          "output_type": "display_data",
          "data": {
            "image/png": "[encoded data removed]",
            "text/plain": [
              "<Figure size 576x432 with 1 Axes>"
            ]
          },
          "metadata": {
            "tags": [],
            "needs_background": "light"
          }
        }
      ]
    },
    {
      "cell_type": "code",
      "metadata": {
        "id": "77a8DaN4BnRK"
      },
      "source": [
        ""
      ],
      "execution_count": null,
      "outputs": []
    }
  ]
}