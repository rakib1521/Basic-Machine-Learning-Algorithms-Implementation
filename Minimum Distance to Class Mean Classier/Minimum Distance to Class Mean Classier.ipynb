{
  "nbformat": 4,
  "nbformat_minor": 0,
  "metadata": {
    "colab": {
      "name": "minimum distance class mean classifier.ipynb",
      "provenance": [],
      "collapsed_sections": []
    },
    "kernelspec": {
      "name": "python3",
      "display_name": "Python 3"
    }
  },
  "cells": [
    {
      "cell_type": "code",
      "metadata": {
        "id": "so57nFlmcxYV",
        "cellView": "code"
      },
      "source": [
        "\n",
        "import pandas as pd\n",
        "import matplotlib.pyplot as plt\n",
        "import numpy as np\n",
        "\n"
      ],
      "execution_count": 1,
      "outputs": []
    },
    {
      "cell_type": "markdown",
      "metadata": {
        "id": "C79UcrXcr6JO"
      },
      "source": [
        "Variables"
      ]
    },
    {
      "cell_type": "code",
      "metadata": {
        "id": "iuXfhLxnpJJQ"
      },
      "source": [
        "omega_one=[]\r\n",
        "omega_two=[]\r\n",
        "test_class_one=[]\r\n",
        "test_class_two=[]\r\n",
        "matched=0"
      ],
      "execution_count": 2,
      "outputs": []
    },
    {
      "cell_type": "markdown",
      "metadata": {
        "id": "TKFX4La8r98U"
      },
      "source": [
        "**Upload And path setup**"
      ]
    },
    {
      "cell_type": "code",
      "metadata": {
        "id": "bvJkvDlKdC7c"
      },
      "source": [
        "train_df=pd.read_csv(\"/content/train.txt\",sep=\" \" ,names=[\"x1\",\"x2\",\"Y\"])\r\n",
        "test_df=pd.read_csv(\"/content/test.txt\",sep=\" \" ,names=[\"x1\",\"x2\",\"Y\"])\r\n",
        "\r\n",
        "\r\n"
      ],
      "execution_count": 3,
      "outputs": []
    },
    {
      "cell_type": "markdown",
      "metadata": {
        "id": "yG7pR_rwsDQY"
      },
      "source": [
        "**Traning Data Separation**"
      ]
    },
    {
      "cell_type": "code",
      "metadata": {
        "id": "Zav-z0ZKAmI1"
      },
      "source": [
        "def class_separation(df):\r\n",
        "  for i in range(0,len(df)):\r\n",
        "    li=[]\r\n",
        "    if df['Y'][i]==1:\r\n",
        "      li=df['x1'][i],df['x2'][i]\r\n",
        "      omega_one.append(li)\r\n",
        "    elif df['Y'][i]==2: \r\n",
        "      li=df['x1'][i],df['x2'][i] \r\n",
        "      omega_two.append(li) "
      ],
      "execution_count": 4,
      "outputs": []
    },
    {
      "cell_type": "markdown",
      "metadata": {
        "id": "_FsLeOqHsNfg"
      },
      "source": [
        "\r\n",
        "\r\n",
        "**Mean Calculation**"
      ]
    },
    {
      "cell_type": "code",
      "metadata": {
        "id": "6pxO3fgEVlnj"
      },
      "source": [
        "def weight_cal(omega):\r\n",
        "  temp_li=[]\r\n",
        "  temp_li2=[]\r\n",
        "  for i in range(0,len(omega)):\r\n",
        "    temp_li.append(omega[i][0])\r\n",
        "    temp_li2.append(omega[i][1])\r\n",
        "\r\n",
        "  w1_omega=sum(temp_li)/len(temp_li)\r\n",
        "  w2_omega=sum(temp_li2)/len(temp_li2)\r\n",
        "\r\n",
        "  w_f=np.array([w1_omega,w2_omega])\r\n",
        "  return w_f\r\n",
        "\r\n"
      ],
      "execution_count": 5,
      "outputs": []
    },
    {
      "cell_type": "markdown",
      "metadata": {
        "id": "H_HhRuvzsSZQ"
      },
      "source": [
        "**Test Data Class**"
      ]
    },
    {
      "cell_type": "code",
      "metadata": {
        "id": "UvUmHIySadO3"
      },
      "source": [
        "def belongs(x):\r\n",
        "  temp_1=np.dot(np.transpose(w1_f),x)-(.5)*(np.dot(np.transpose(w1_f),w1_f))\r\n",
        "  temp_2=np.dot(np.transpose(w2_f),x)-(.5)*(np.dot(np.transpose(w2_f),w2_f))\r\n",
        "  if temp_1>temp_2:\r\n",
        "    return 1\r\n",
        "  else:\r\n",
        "    return 2  \r\n"
      ],
      "execution_count": 6,
      "outputs": []
    },
    {
      "cell_type": "markdown",
      "metadata": {
        "id": "FL5Mysp2sdYM"
      },
      "source": [
        "**Desicion Boundary Line Points**"
      ]
    },
    {
      "cell_type": "code",
      "metadata": {
        "id": "YTjuxyALkw8W"
      },
      "source": [
        "def line_points(min_f,max_f,cons):\r\n",
        "  li=[]\r\n",
        "  li2=[]\r\n",
        "  for i in range(min_f,max_f):\r\n",
        "    \r\n",
        "    i_f=np.array(i)\r\n",
        "    y=-1*((np.dot(cof1,i_f)+cons)/cof2)\r\n",
        "    li.append(y)\r\n",
        "    li2.append(i)\r\n",
        "    i=i+1\r\n",
        "\r\n",
        " \r\n",
        "  return li2,li  "
      ],
      "execution_count": 7,
      "outputs": []
    },
    {
      "cell_type": "code",
      "metadata": {
        "id": "ngz_NuyHBmkh"
      },
      "source": [
        "class_separation(train_df)\r\n",
        "w1_f=weight_cal(omega_one)\r\n",
        "w2_f=weight_cal(omega_two)\r\n",
        "\r\n",
        "\r\n"
      ],
      "execution_count": 8,
      "outputs": []
    },
    {
      "cell_type": "code",
      "metadata": {
        "id": "Yu0-5yVwMtVp",
        "colab": {
          "base_uri": "https://localhost:8080/"
        },
        "outputId": "6de4d4d9-767c-4c15-8f95-297b5c466bd2"
      },
      "source": [
        "for i in test_df.index: \r\n",
        "     li=[]\r\n",
        "     x=np.array([test_df['x1'][i],test_df['x2'][i]])\r\n",
        "     li=[test_df['x1'][i],test_df['x2'][i]]\r\n",
        "     temp_f=belongs(x)\r\n",
        "     if temp_f==test_df['Y'][i]:\r\n",
        "       print(\"matched\")\r\n",
        "       matched=matched+1\r\n",
        "       if test_df['Y'][i]==1:\r\n",
        "        test_class_one.append(li)\r\n",
        "       elif test_df['Y'][i]==2:\r\n",
        "         test_class_two.append(li)\r\n",
        "\r\n",
        "     else:\r\n",
        "       print(\"not matched\")  \r\n",
        "       "
      ],
      "execution_count": 9,
      "outputs": [
        {
          "output_type": "stream",
          "text": [
            "matched\n",
            "matched\n",
            "matched\n",
            "matched\n",
            "matched\n",
            "not matched\n",
            "matched\n"
          ],
          "name": "stdout"
        }
      ]
    },
    {
      "cell_type": "code",
      "metadata": {
        "id": "Fet_L6XBkCip"
      },
      "source": [
        "max_train_x1= max(train_df['x1'])\r\n",
        "max_train_x2= max(train_df['x2'])\r\n",
        "max_test_x1= max(test_df['x1'])\r\n",
        "max_test_x2= max(test_df['x2'])\r\n",
        "min_train_x1= min(train_df['x1'])\r\n",
        "min_train_x2= min(train_df['x2'])\r\n",
        "min_test_x1= min(test_df['x1'])\r\n",
        "min_test_x2= min(test_df['x2'])\r\n",
        "\r\n",
        "max_f=max(max_train_x1,max_train_x2,max_test_x1,max_test_x2)\r\n",
        "min_f=min(min_train_x1,min_train_x2,min_test_x1,min_test_x2)\r\n",
        "\r\n",
        "cons=-.5*(np.dot(np.transpose(w1_f),w1_f)-np.dot(np.transpose(w2_f),w2_f))\r\n",
        "w=np.transpose(w1_f)-np.transpose(w2_f)\r\n",
        "cof1=w[0]\r\n",
        "cof2=w[1]\r\n",
        "\r\n"
      ],
      "execution_count": 10,
      "outputs": []
    },
    {
      "cell_type": "code",
      "metadata": {
        "id": "aCrIxdI3l7OZ"
      },
      "source": [
        "line_x,line_y=line_points(min_f,max_f,cons)\r\n"
      ],
      "execution_count": 11,
      "outputs": []
    },
    {
      "cell_type": "code",
      "metadata": {
        "colab": {
          "base_uri": "https://localhost:8080/",
          "height": 265
        },
        "id": "TADqIkwKDw0L",
        "outputId": "be70f028-13db-4a89-9fa7-ed58929bd519"
      },
      "source": [
        "plt.plot(*zip(*omega_one),'ro',label=\"Train Class 1\")\r\n",
        "plt.plot(*zip(*omega_two),\"bv\",label=\"Train Class 2\")\r\n",
        "plt.legend(loc=\"upper center\",bbox_to_anchor=(1.25, 1))\r\n",
        "plt.show()"
      ],
      "execution_count": 12,
      "outputs": [
        {
          "output_type": "display_data",
          "data": {
            "image/png": "[encoded data removed]",
            "text/plain": [
              "<Figure size 432x288 with 1 Axes>"
            ]
          },
          "metadata": {
            "tags": [],
            "needs_background": "light"
          }
        }
      ]
    },
    {
      "cell_type": "code",
      "metadata": {
        "colab": {
          "base_uri": "https://localhost:8080/",
          "height": 265
        },
        "id": "wPLPm1nWNBzV",
        "outputId": "1233d88b-014f-4b25-8b1a-877f3c83ef40"
      },
      "source": [
        "plt.plot(*zip(*omega_one),'ro',label=\"Train Class 1\")\r\n",
        "plt.plot(*zip(*omega_two),\"bv\",label=\"Train Class 2\")\r\n",
        "plt.scatter(w1_f[0],w1_f[1],marker='+',c='red',label=\"Mean Class 1\")\r\n",
        "plt.scatter(w2_f[0],w2_f[1],marker='^',c='blue',label=\"Mean Class 1\")\r\n",
        "plt.plot(*zip(*test_class_one),'g*',label=\"Test Class 1\")\r\n",
        "plt.plot(*zip(*test_class_two),\"g>\",label=\"Test Class 2\")\r\n",
        "plt.legend(loc=\"upper center\",bbox_to_anchor=(1.25, 1))\r\n",
        "plt.show()"
      ],
      "execution_count": 13,
      "outputs": [
        {
          "output_type": "display_data",
          "data": {
            "image/png": "[encoded data removed]",
            "text/plain": [
              "<Figure size 432x288 with 1 Axes>"
            ]
          },
          "metadata": {
            "tags": [],
            "needs_background": "light"
          }
        }
      ]
    },
    {
      "cell_type": "code",
      "metadata": {
        "id": "oDy4CvSKfSTK",
        "colab": {
          "base_uri": "https://localhost:8080/",
          "height": 265
        },
        "outputId": "6927a747-392b-4c65-f75e-4205c8911727"
      },
      "source": [
        "plt.plot(*zip(*omega_one),'ro',label=\"Train Class 1\")\r\n",
        "plt.plot(*zip(*omega_two),\"bv\",label=\"Train Class 2\")\r\n",
        "plt.scatter(w1_f[0],w1_f[1],marker='+',c='red',label=\"Mean Class 1\")\r\n",
        "plt.scatter(w2_f[0],w2_f[1],marker='^',c='blue',label=\"Mean Class 1\")\r\n",
        "plt.plot(*zip(*test_class_one),'g*',label=\"Test Class 1\")\r\n",
        "plt.plot(*zip(*test_class_two),\"g>\",label=\"Test Class 2\")\r\n",
        "plt.plot(line_x,line_y,\"--\",label=\"Decision Boundary\")\r\n",
        "plt.legend(loc=\"upper center\",bbox_to_anchor=(1.25, 1))\r\n",
        "plt.show()"
      ],
      "execution_count": 14,
      "outputs": [
        {
          "output_type": "display_data",
          "data": {
            "image/png": "[encoded data removed]",
            "text/plain": [
              "<Figure size 432x288 with 1 Axes>"
            ]
          },
          "metadata": {
            "tags": [],
            "needs_background": "light"
          }
        }
      ]
    },
    {
      "cell_type": "code",
      "metadata": {
        "id": "rFd_BIblD2T7",
        "colab": {
          "base_uri": "https://localhost:8080/"
        },
        "outputId": "425e0b46-c2c6-444f-aec6-7386483953c2"
      },
      "source": [
        "print(\"Accuracy {}\".format((matched/len(test_df)*100)))"
      ],
      "execution_count": 15,
      "outputs": [
        {
          "output_type": "stream",
          "text": [
            "Accuracy 85.71428571428571\n"
          ],
          "name": "stdout"
        }
      ]
    },
    {
      "cell_type": "code",
      "metadata": {
        "id": "KltM7DbNtRUW"
      },
      "source": [
        ""
      ],
      "execution_count": null,
      "outputs": []
    }
  ]
}